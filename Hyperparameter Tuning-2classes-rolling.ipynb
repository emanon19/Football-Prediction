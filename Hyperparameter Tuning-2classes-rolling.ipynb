{
 "cells": [
  {
   "cell_type": "code",
   "execution_count": 1,
   "id": "e47ff8f8",
   "metadata": {},
   "outputs": [],
   "source": [
    "import pandas as pd\n",
    "\n",
    "matches = pd.read_csv(\"matches_2classes_rolling.csv\", index_col=0)"
   ]
  },
  {
   "cell_type": "code",
   "execution_count": 2,
   "id": "7105f1ee",
   "metadata": {},
   "outputs": [],
   "source": [
    "from sklearn import preprocessing"
   ]
  },
  {
   "cell_type": "code",
   "execution_count": 3,
   "id": "1079570a",
   "metadata": {},
   "outputs": [],
   "source": [
    "predictors = [\"venue_code\", \"opp_code\", \"hour\", \"day_code\"]\n",
    "cols = [\"gf\", \"ga\", \"sh\", \"sot\", \"dist\", \"fk\", \"pk\", \"pkatt\"]\n",
    "new_cols = [f\"{c}_rolling\" for c in cols]\n",
    "\n",
    "predictors += new_cols\n",
    "#matches[predictors] = preprocessing.scale(matches[predictors]) \n",
    "\n",
    "train = matches[matches[\"date\"] < '2024-01-01']\n",
    "test = matches[matches[\"date\"] > '2024-01-01']"
   ]
  },
  {
   "cell_type": "code",
   "execution_count": 4,
   "id": "fcfc3e4d",
   "metadata": {},
   "outputs": [],
   "source": [
    "matches_scaled = matches.copy()\n",
    "matches_scaled[predictors] = preprocessing.scale(matches_scaled[predictors]) \n",
    "\n",
    "train_scaled = matches_scaled[matches_scaled[\"date\"] < '2024-01-01']\n",
    "test_scaled = matches_scaled[matches_scaled[\"date\"] > '2024-01-01']"
   ]
  },
  {
   "cell_type": "code",
   "execution_count": 5,
   "id": "7c7a0cbb",
   "metadata": {},
   "outputs": [],
   "source": [
    "from sklearn.svm import LinearSVC, SVC\n",
    "from sklearn.ensemble import RandomForestClassifier\n",
    "from sklearn.linear_model import LogisticRegression\n",
    "from sklearn.neighbors import KNeighborsClassifier\n",
    "from sklearn.ensemble import GradientBoostingClassifier\n",
    "from sklearn.tree import DecisionTreeClassifier\n",
    "from catboost import CatBoostClassifier\n",
    "\n",
    "from sklearn.metrics import (confusion_matrix,\n",
    "                             accuracy_score,\n",
    "                             precision_score,\n",
    "                             recall_score,\n",
    "                             f1_score,\n",
    "                            )"
   ]
  },
  {
   "cell_type": "code",
   "execution_count": 6,
   "id": "a0710068",
   "metadata": {},
   "outputs": [],
   "source": [
    "param_grid = {'max_iter': [1000],\n",
    "              'random_state': [1, ],\n",
    "              'solver': ['lbfgs', 'liblinear'],  \n",
    "              'penalty': ['l2', 'l1'], \n",
    "              'class_weight': ['balanced', {0:2, 1:1}, {0:3, 1:1}, {0:4, 1:1}, {0:3, 1:2},\n",
    "                              {1:2, 0:1}, {1:3, 0:1}, {1:4, 0:1}]\n",
    "             }"
   ]
  },
  {
   "cell_type": "code",
   "execution_count": 7,
   "id": "c89cf6e8",
   "metadata": {},
   "outputs": [],
   "source": [
    "from sklearn.model_selection import GridSearchCV, RandomizedSearchCV\n",
    "\n",
    "def evaluation_(model, train, test, param_grid):\n",
    "    grid_search = GridSearchCV(estimator=model, param_grid=param_grid, cv=50)\n",
    "    grid_search.fit(train[predictors], train['target'])\n",
    "\n",
    "    best_params = grid_search.best_params_\n",
    "    best_model = grid_search.best_estimator_\n",
    "\n",
    "    # Evaluate the best model\n",
    "    preds_best = best_model.predict(test[predictors])\n",
    "    accuracy_best = accuracy_score(test['target'], preds_best)\n",
    "    precision_best = precision_score(test[\"target\"], preds_best)\n",
    "    recall_best = recall_score(test[\"target\"], preds_best)\n",
    "    f1score_best = f1_score(test[\"target\"], preds_best)\n",
    "    print(f\"Best model Accuracy: {accuracy_best:.5f}\")\n",
    "    print(f\"Best model Precision: {precision_best:.5f}\")\n",
    "    print(f\"Best model Recall: {recall_best:.5f}\")\n",
    "    print(f\"Best model F1score: {f1score_best:.5f}\")\n",
    "    print(f\"Best Hyperparameters: {best_params}\")\n",
    "    \n",
    "def random_evaluation_(model, train, test, parameters):\n",
    "    ran_search = RandomizedSearchCV(estimator=model, param_distributions=parameters,\n",
    "                                    cv = 2, n_iter = 30, n_jobs=-1\n",
    "                                   )\n",
    "    ran_search.fit(train[predictors], train['target'])\n",
    "\n",
    "    best_params = ran_search.best_params_\n",
    "    best_model = ran_search.best_estimator_\n",
    "\n",
    "    # Evaluate the best model\n",
    "    preds_best = best_model.predict(test[predictors])\n",
    "    accuracy_best = accuracy_score(test['target'], preds_best)\n",
    "    precision_best = precision_score(test[\"target\"], preds_best)\n",
    "    recall_best = recall_score(test[\"target\"], preds_best)\n",
    "    f1score_best = f1_score(test[\"target\"], preds_best)\n",
    "    print(f\"Best model Accuracy: {accuracy_best:.5f}\")\n",
    "    print(f\"Best model Precision: {precision_best:.5f}\")\n",
    "    print(f\"Best model Recall: {recall_best:.5f}\")\n",
    "    print(f\"Best model F1score: {f1score_best:.5f}\")\n",
    "    print(f\"Best Hyperparameters: {best_params}\")"
   ]
  },
  {
   "cell_type": "code",
   "execution_count": 8,
   "id": "5cad3102",
   "metadata": {},
   "outputs": [],
   "source": [
    "from scipy.stats import uniform as sp_randFloat\n",
    "from scipy.stats import randint as sp_randInt"
   ]
  },
  {
   "cell_type": "code",
   "execution_count": 9,
   "id": "5e340f31",
   "metadata": {},
   "outputs": [
    {
     "name": "stdout",
     "output_type": "stream",
     "text": [
      "Best model Accuracy: 0.69063\n",
      "Best model Precision: 0.61644\n",
      "Best model Recall: 0.38793\n",
      "Best model F1score: 0.47619\n",
      "Best Hyperparameters: {'max_depth': 2, 'max_features': 3, 'min_samples_leaf': 7, 'min_samples_split': 14, 'n_estimators': 552, 'random_state': 4}\n"
     ]
    }
   ],
   "source": [
    "rf = RandomForestClassifier()\n",
    "rf_param = {'n_estimators': sp_randInt(100, 1000), \n",
    "            'min_samples_split': sp_randInt(2, 20), \n",
    "            'random_state': sp_randInt(1, 5),\n",
    "            'min_samples_leaf': sp_randInt(1, 10),\n",
    "            'max_features': sp_randInt(2, 20),\n",
    "            'max_depth': sp_randInt(2, 20),\n",
    "            \n",
    "           }\n",
    "random_evaluation_(rf, train, test, rf_param)"
   ]
  },
  {
   "cell_type": "code",
   "execution_count": 16,
   "id": "9ce2e342",
   "metadata": {},
   "outputs": [
    {
     "name": "stdout",
     "output_type": "stream",
     "text": [
      "Best model Accuracy: 0.64687\n",
      "Best model Precision: 0.51948\n",
      "Best model Recall: 0.34483\n",
      "Best model F1score: 0.41451\n",
      "Best Hyperparameters: {'criterion': 'entropy', 'max_depth': 3}\n"
     ]
    }
   ],
   "source": [
    "dt = DecisionTreeClassifier(criterion='entropy',\n",
    "                            max_depth=10,)\n",
    "dt_param = {'criterion': ['gini','entropy'],\n",
    "            'max_depth': sp_randInt(2, 20),\n",
    "           }\n",
    "random_evaluation_(dt, train, test, dt_param)"
   ]
  },
  {
   "cell_type": "code",
   "execution_count": 22,
   "id": "7545d7e5",
   "metadata": {},
   "outputs": [
    {
     "name": "stdout",
     "output_type": "stream",
     "text": [
      "Best model Accuracy: 0.71562\n",
      "Best model Precision: 0.65060\n",
      "Best model Recall: 0.46552\n",
      "Best model F1score: 0.54271\n",
      "Best Hyperparameters: {'C': 0.07000808673621849, 'gamma': 90.28457983928352, 'kernel': 'linear', 'random_state': 3}\n"
     ]
    }
   ],
   "source": [
    "svc = SVC()\n",
    "\n",
    "svc_param = {'C': sp_randFloat(0.01, 100),  \n",
    "             'gamma': sp_randFloat(0.01, 100), \n",
    "             'kernel': ['linear', 'rbf'],\n",
    "             'random_state':sp_randInt(0, 5),\n",
    "             \n",
    "             } \n",
    "random_evaluation_(svc, train_scaled, test_scaled, svc_param)"
   ]
  },
  {
   "cell_type": "code",
   "execution_count": 45,
   "id": "c40c0738",
   "metadata": {},
   "outputs": [
    {
     "name": "stdout",
     "output_type": "stream",
     "text": [
      "Best model Accuracy: 0.65625\n",
      "Best model Precision: 0.52679\n",
      "Best model Recall: 0.50862\n",
      "Best model F1score: 0.51754\n",
      "Best Hyperparameters: {'class_weight': {0: 1, 1: 1}, 'max_iter': 1000, 'penalty': 'l2', 'random_state': 4, 'solver': 'lbfgs'}\n"
     ]
    },
    {
     "name": "stderr",
     "output_type": "stream",
     "text": [
      "C:\\Users\\Hoang Hiep\\anaconda3\\Lib\\site-packages\\sklearn\\model_selection\\_validation.py:425: FitFailedWarning: \n",
      "18 fits failed out of a total of 60.\n",
      "The score on these train-test partitions for these parameters will be set to nan.\n",
      "If these failures are not expected, you can try to debug them by setting error_score='raise'.\n",
      "\n",
      "Below are more details about the failures:\n",
      "--------------------------------------------------------------------------------\n",
      "18 fits failed with the following error:\n",
      "Traceback (most recent call last):\n",
      "  File \"C:\\Users\\Hoang Hiep\\anaconda3\\Lib\\site-packages\\sklearn\\model_selection\\_validation.py\", line 732, in _fit_and_score\n",
      "    estimator.fit(X_train, y_train, **fit_params)\n",
      "  File \"C:\\Users\\Hoang Hiep\\anaconda3\\Lib\\site-packages\\sklearn\\base.py\", line 1151, in wrapper\n",
      "    return fit_method(estimator, *args, **kwargs)\n",
      "           ^^^^^^^^^^^^^^^^^^^^^^^^^^^^^^^^^^^^^^\n",
      "  File \"C:\\Users\\Hoang Hiep\\anaconda3\\Lib\\site-packages\\sklearn\\linear_model\\_logistic.py\", line 1168, in fit\n",
      "    solver = _check_solver(self.solver, self.penalty, self.dual)\n",
      "             ^^^^^^^^^^^^^^^^^^^^^^^^^^^^^^^^^^^^^^^^^^^^^^^^^^^\n",
      "  File \"C:\\Users\\Hoang Hiep\\anaconda3\\Lib\\site-packages\\sklearn\\linear_model\\_logistic.py\", line 56, in _check_solver\n",
      "    raise ValueError(\n",
      "ValueError: Solver lbfgs supports only 'l2' or 'none' penalties, got l1 penalty.\n",
      "\n",
      "  warnings.warn(some_fits_failed_message, FitFailedWarning)\n",
      "C:\\Users\\Hoang Hiep\\anaconda3\\Lib\\site-packages\\sklearn\\model_selection\\_search.py:976: UserWarning: One or more of the test scores are non-finite: [0.60483871 0.60483871 0.60483871 0.59946237 0.60483871 0.59946237\n",
      "        nan 0.60483871        nan 0.59946237 0.60483871 0.60483871\n",
      " 0.60483871 0.59946237 0.60483871        nan        nan 0.60483871\n",
      " 0.59946237 0.59946237 0.60483871        nan        nan 0.60483871\n",
      "        nan 0.60483871 0.60483871        nan 0.60483871        nan]\n",
      "  warnings.warn(\n"
     ]
    }
   ],
   "source": [
    "import numpy as np\n",
    "\n",
    "lr = LogisticRegression()\n",
    "\n",
    "l1 = np.arange(10, 1)\n",
    "l2 = np.arange(10, 1)\n",
    "class_weight = [{0:i,1:j} for i,j in zip(l1,l2)]\n",
    "\n",
    "lr_param = {'max_iter':[1000],\n",
    "            'random_state':sp_randInt(1, 5),\n",
    "            'solver':['lbfgs','liblinear'] ,\n",
    "            'penalty':['l2','l1'],\n",
    "            'class_weight':[{0:1, 1:1}],\n",
    "           } \n",
    "random_evaluation_(lr, train_scaled, test_scaled, lr_param)"
   ]
  },
  {
   "cell_type": "code",
   "execution_count": 40,
   "id": "f253eb81",
   "metadata": {},
   "outputs": [
    {
     "name": "stdout",
     "output_type": "stream",
     "text": [
      "Best model Accuracy: 0.65000\n",
      "Best model Precision: 0.51961\n",
      "Best model Recall: 0.45690\n",
      "Best model F1score: 0.48624\n",
      "Best Hyperparameters: {'n_neighbors': 20}\n"
     ]
    }
   ],
   "source": [
    "knn = KNeighborsClassifier()\n",
    "\n",
    "knn_param = {'n_neighbors':sp_randInt(2,50),\n",
    "            } \n",
    "random_evaluation_(knn, train_scaled, test_scaled, knn_param)"
   ]
  },
  {
   "cell_type": "code",
   "execution_count": 35,
   "id": "14e44f6b",
   "metadata": {},
   "outputs": [
    {
     "name": "stdout",
     "output_type": "stream",
     "text": [
      "Best model Accuracy: 0.64687\n",
      "Best model Precision: 0.51220\n",
      "Best model Recall: 0.54310\n",
      "Best model F1score: 0.52720\n",
      "Best Hyperparameters: {'learning_rate': 0.1, 'max_depth': 2, 'max_features': 8, 'min_samples_leaf': 9, 'min_samples_split': 7, 'n_estimators': 321, 'random_state': 3, 'subsample': 0.5}\n"
     ]
    }
   ],
   "source": [
    "xgb = GradientBoostingClassifier()\n",
    "xgb_param = {'n_estimators': sp_randInt(100, 1000), \n",
    "             'min_samples_leaf': sp_randInt(2, 10),\n",
    "             'min_samples_split': sp_randInt(5, 100),\n",
    "             'max_features': sp_randInt(2, 10),\n",
    "             'max_depth': sp_randInt(2, 10),\n",
    "             'learning_rate': [0.1, 1, 2],\n",
    "             'subsample': [0.5, 0.7, 0.8, 1],\n",
    "             'random_state':sp_randInt(1, 5),\n",
    "            } \n",
    "random_evaluation_(xgb, train, test, xgb_param)"
   ]
  },
  {
   "cell_type": "code",
   "execution_count": 36,
   "id": "08708955",
   "metadata": {},
   "outputs": [
    {
     "name": "stdout",
     "output_type": "stream",
     "text": [
      "0:\tlearn: 0.6902860\ttotal: 4.04ms\tremaining: 444ms\n",
      "2:\tlearn: 0.6856671\ttotal: 9.66ms\tremaining: 348ms\n",
      "4:\tlearn: 0.6796594\ttotal: 15.1ms\tremaining: 320ms\n",
      "6:\tlearn: 0.6738418\ttotal: 18.8ms\tremaining: 279ms\n",
      "8:\tlearn: 0.6685955\ttotal: 24.2ms\tremaining: 275ms\n",
      "10:\tlearn: 0.6633444\ttotal: 29.7ms\tremaining: 270ms\n",
      "12:\tlearn: 0.6583718\ttotal: 35.2ms\tremaining: 265ms\n",
      "14:\tlearn: 0.6540579\ttotal: 40.5ms\tremaining: 259ms\n",
      "16:\tlearn: 0.6496976\ttotal: 45.7ms\tremaining: 252ms\n",
      "18:\tlearn: 0.6450640\ttotal: 49.8ms\tremaining: 241ms\n",
      "20:\tlearn: 0.6401595\ttotal: 55ms\tremaining: 236ms\n",
      "22:\tlearn: 0.6357907\ttotal: 60.4ms\tremaining: 231ms\n",
      "24:\tlearn: 0.6313308\ttotal: 66ms\tremaining: 227ms\n",
      "26:\tlearn: 0.6273086\ttotal: 71.6ms\tremaining: 223ms\n",
      "28:\tlearn: 0.6237704\ttotal: 77ms\tremaining: 218ms\n",
      "30:\tlearn: 0.6202293\ttotal: 82.4ms\tremaining: 213ms\n",
      "32:\tlearn: 0.6173610\ttotal: 87.8ms\tremaining: 208ms\n",
      "34:\tlearn: 0.6134342\ttotal: 93.2ms\tremaining: 202ms\n",
      "36:\tlearn: 0.6095982\ttotal: 98.3ms\tremaining: 197ms\n",
      "38:\tlearn: 0.6060216\ttotal: 104ms\tremaining: 192ms\n",
      "40:\tlearn: 0.6022108\ttotal: 109ms\tremaining: 187ms\n",
      "42:\tlearn: 0.5985007\ttotal: 114ms\tremaining: 180ms\n",
      "44:\tlearn: 0.5951365\ttotal: 120ms\tremaining: 175ms\n",
      "46:\tlearn: 0.5914099\ttotal: 125ms\tremaining: 170ms\n",
      "48:\tlearn: 0.5886807\ttotal: 129ms\tremaining: 163ms\n",
      "50:\tlearn: 0.5859408\ttotal: 134ms\tremaining: 158ms\n",
      "52:\tlearn: 0.5835498\ttotal: 139ms\tremaining: 153ms\n",
      "54:\tlearn: 0.5803114\ttotal: 144ms\tremaining: 147ms\n",
      "56:\tlearn: 0.5771893\ttotal: 149ms\tremaining: 141ms\n",
      "58:\tlearn: 0.5735036\ttotal: 154ms\tremaining: 136ms\n",
      "60:\tlearn: 0.5707240\ttotal: 159ms\tremaining: 131ms\n",
      "62:\tlearn: 0.5682467\ttotal: 164ms\tremaining: 125ms\n",
      "64:\tlearn: 0.5651364\ttotal: 169ms\tremaining: 120ms\n",
      "66:\tlearn: 0.5626588\ttotal: 174ms\tremaining: 114ms\n",
      "68:\tlearn: 0.5595619\ttotal: 179ms\tremaining: 109ms\n",
      "70:\tlearn: 0.5569885\ttotal: 184ms\tremaining: 104ms\n",
      "72:\tlearn: 0.5538620\ttotal: 189ms\tremaining: 98.5ms\n",
      "74:\tlearn: 0.5518009\ttotal: 194ms\tremaining: 93.2ms\n",
      "76:\tlearn: 0.5494840\ttotal: 199ms\tremaining: 87.9ms\n",
      "78:\tlearn: 0.5470458\ttotal: 204ms\tremaining: 82.6ms\n",
      "80:\tlearn: 0.5443369\ttotal: 210ms\tremaining: 77.7ms\n",
      "82:\tlearn: 0.5413893\ttotal: 216ms\tremaining: 73ms\n",
      "84:\tlearn: 0.5392505\ttotal: 224ms\tremaining: 68.6ms\n",
      "86:\tlearn: 0.5370912\ttotal: 230ms\tremaining: 63.4ms\n",
      "88:\tlearn: 0.5351930\ttotal: 235ms\tremaining: 58.1ms\n",
      "90:\tlearn: 0.5330808\ttotal: 240ms\tremaining: 52.7ms\n",
      "92:\tlearn: 0.5312846\ttotal: 245ms\tremaining: 47.4ms\n",
      "94:\tlearn: 0.5291906\ttotal: 250ms\tremaining: 42.1ms\n",
      "96:\tlearn: 0.5267176\ttotal: 255ms\tremaining: 36.8ms\n",
      "98:\tlearn: 0.5252973\ttotal: 260ms\tremaining: 31.5ms\n",
      "100:\tlearn: 0.5228300\ttotal: 265ms\tremaining: 26.2ms\n",
      "102:\tlearn: 0.5203830\ttotal: 269ms\tremaining: 20.9ms\n",
      "104:\tlearn: 0.5185684\ttotal: 274ms\tremaining: 15.7ms\n",
      "106:\tlearn: 0.5165505\ttotal: 279ms\tremaining: 10.4ms\n",
      "108:\tlearn: 0.5138914\ttotal: 284ms\tremaining: 5.21ms\n",
      "110:\tlearn: 0.5118780\ttotal: 289ms\tremaining: 0us\n",
      "Best model Accuracy: 0.67500\n",
      "Best model Precision: 0.56122\n",
      "Best model Recall: 0.47414\n",
      "Best model F1score: 0.51402\n",
      "Best Hyperparameters: {'depth': 8, 'learning_rate': 0.03143950567237148, 'n_estimators': 111, 'random_state': 2, 'verbose': 2}\n"
     ]
    }
   ],
   "source": [
    "cb = CatBoostClassifier()\n",
    "cb_param = {'n_estimators': sp_randInt(100, 1000),\n",
    "            'learning_rate': sp_randFloat(0.01, 0.05),\n",
    "            #'iterations':sp_randInt(5, 30),\n",
    "            'depth':sp_randInt(4, 10),\n",
    "            'verbose':sp_randInt(0, 5),\n",
    "            'random_state':sp_randInt(1, 5),\n",
    "            } \n",
    "random_evaluation_(cb, train, test, cb_param)"
   ]
  },
  {
   "cell_type": "code",
   "execution_count": null,
   "id": "df3c8823",
   "metadata": {},
   "outputs": [],
   "source": []
  }
 ],
 "metadata": {
  "kernelspec": {
   "display_name": "Python 3 (ipykernel)",
   "language": "python",
   "name": "python3"
  },
  "language_info": {
   "codemirror_mode": {
    "name": "ipython",
    "version": 3
   },
   "file_extension": ".py",
   "mimetype": "text/x-python",
   "name": "python",
   "nbconvert_exporter": "python",
   "pygments_lexer": "ipython3",
   "version": "3.11.4"
  }
 },
 "nbformat": 4,
 "nbformat_minor": 5
}
