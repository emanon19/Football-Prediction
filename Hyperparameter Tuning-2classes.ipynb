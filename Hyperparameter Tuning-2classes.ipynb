{
 "cells": [
  {
   "cell_type": "code",
   "execution_count": 1,
   "id": "e47ff8f8",
   "metadata": {},
   "outputs": [],
   "source": [
    "import pandas as pd\n",
    "\n",
    "matches = pd.read_csv(\"matches_2classes.csv\", index_col=0)"
   ]
  },
  {
   "cell_type": "code",
   "execution_count": 2,
   "id": "7105f1ee",
   "metadata": {},
   "outputs": [],
   "source": [
    "from sklearn import preprocessing"
   ]
  },
  {
   "cell_type": "code",
   "execution_count": 3,
   "id": "1079570a",
   "metadata": {},
   "outputs": [],
   "source": [
    "predictors = [\"venue_code\", \"opp_code\", \"hour\", \"day_code\"]\n",
    "\n",
    "#matches[predictors] = preprocessing.scale(matches[predictors]) \n",
    "\n",
    "train = matches[matches[\"date\"] < '2024-01-01']\n",
    "test = matches[matches[\"date\"] > '2024-01-01']"
   ]
  },
  {
   "cell_type": "code",
   "execution_count": 4,
   "id": "fcfc3e4d",
   "metadata": {},
   "outputs": [],
   "source": [
    "matches_scaled = matches.copy()\n",
    "matches_scaled[predictors] = preprocessing.scale(matches_scaled[predictors]) \n",
    "\n",
    "train_scaled = matches_scaled[matches_scaled[\"date\"] < '2024-01-01']\n",
    "test_scaled = matches_scaled[matches_scaled[\"date\"] > '2024-01-01']"
   ]
  },
  {
   "cell_type": "code",
   "execution_count": 5,
   "id": "7c7a0cbb",
   "metadata": {},
   "outputs": [],
   "source": [
    "from sklearn.svm import LinearSVC, SVC\n",
    "from sklearn.ensemble import RandomForestClassifier\n",
    "from sklearn.linear_model import LogisticRegression\n",
    "from sklearn.neighbors import KNeighborsClassifier\n",
    "from sklearn.ensemble import GradientBoostingClassifier\n",
    "from sklearn.tree import DecisionTreeClassifier\n",
    "from catboost import CatBoostClassifier\n",
    "\n",
    "from sklearn.metrics import (confusion_matrix,\n",
    "                             accuracy_score,\n",
    "                             precision_score,\n",
    "                             recall_score,\n",
    "                             f1_score,\n",
    "                            )"
   ]
  },
  {
   "cell_type": "code",
   "execution_count": 6,
   "id": "a0710068",
   "metadata": {},
   "outputs": [],
   "source": [
    "param_grid = {'max_iter': [1000],\n",
    "              'random_state': [1, ],\n",
    "              'solver': ['lbfgs', 'liblinear'],  \n",
    "              'penalty': ['l2', 'l1'], \n",
    "              'class_weight': ['balanced', {0:2, 1:1}, {0:3, 1:1}, {0:4, 1:1}, {0:3, 1:2},\n",
    "                              {1:2, 0:1}, {1:3, 0:1}, {1:4, 0:1}]\n",
    "             }"
   ]
  },
  {
   "cell_type": "code",
   "execution_count": 46,
   "id": "c89cf6e8",
   "metadata": {},
   "outputs": [],
   "source": [
    "from sklearn.model_selection import GridSearchCV, RandomizedSearchCV\n",
    "\n",
    "def evaluation_(model, train, test, param_grid):\n",
    "    grid_search = GridSearchCV(estimator=model, param_grid=param_grid, cv=50)\n",
    "    grid_search.fit(train[predictors], train['target'])\n",
    "\n",
    "    best_params = grid_search.best_params_\n",
    "    best_model = grid_search.best_estimator_\n",
    "\n",
    "    # Evaluate the best model\n",
    "    preds_best = best_model.predict(test[predictors])\n",
    "    accuracy_best = accuracy_score(test['target'], preds_best)\n",
    "    precision_best = precision_score(test[\"target\"], preds_best)\n",
    "    recall_best = recall_score(test[\"target\"], preds_best)\n",
    "    f1score_best = f1_score(test[\"target\"], preds_best)\n",
    "    print(f\"Best model Accuracy: {accuracy_best:.5f}\")\n",
    "    print(f\"Best model Precision: {precision_best:.5f}\")\n",
    "    print(f\"Best model Recall: {recall_best:.5f}\")\n",
    "    print(f\"Best model F1score: {f1score_best:.5f}\")\n",
    "    print(f\"Best Hyperparameters: {best_params}\")\n",
    "    \n",
    "def random_evaluation_(model, train, test, parameters):\n",
    "    ran_search = RandomizedSearchCV(estimator=model, param_distributions=parameters,\n",
    "                                    cv = 2, n_iter = 30, n_jobs=-1\n",
    "                                   )\n",
    "    ran_search.fit(train[predictors], train['target'])\n",
    "\n",
    "    best_params = ran_search.best_params_\n",
    "    best_model = ran_search.best_estimator_\n",
    "\n",
    "    # Evaluate the best model\n",
    "    preds_best = best_model.predict(test[predictors])\n",
    "    accuracy_best = accuracy_score(test['target'], preds_best)\n",
    "    precision_best = precision_score(test[\"target\"], preds_best)\n",
    "    recall_best = recall_score(test[\"target\"], preds_best)\n",
    "    f1score_best = f1_score(test[\"target\"], preds_best)\n",
    "    print(f\"Best model Accuracy: {accuracy_best:.5f}\")\n",
    "    print(f\"Best model Precision: {precision_best:.5f}\")\n",
    "    print(f\"Best model Recall: {recall_best:.5f}\")\n",
    "    print(f\"Best model F1score: {f1score_best:.5f}\")\n",
    "    print(f\"Best Hyperparameters: {best_params}\")"
   ]
  },
  {
   "cell_type": "code",
   "execution_count": 8,
   "id": "5cad3102",
   "metadata": {},
   "outputs": [],
   "source": [
    "from scipy.stats import uniform as sp_randFloat\n",
    "from scipy.stats import randint as sp_randInt"
   ]
  },
  {
   "cell_type": "code",
   "execution_count": 56,
   "id": "5e340f31",
   "metadata": {},
   "outputs": [
    {
     "name": "stdout",
     "output_type": "stream",
     "text": [
      "Best model Accuracy: 0.62813\n",
      "Best model Precision: 0.48571\n",
      "Best model Recall: 0.43966\n",
      "Best model F1score: 0.46154\n",
      "Best Hyperparameters: {'max_depth': 19, 'max_features': 14, 'min_samples_leaf': 2, 'min_samples_split': 15, 'n_estimators': 634, 'random_state': 4}\n"
     ]
    }
   ],
   "source": [
    "rf = RandomForestClassifier()\n",
    "rf_param = {'n_estimators': sp_randInt(100, 1000), \n",
    "            'min_samples_split': sp_randInt(2, 20), \n",
    "            'random_state': sp_randInt(1, 5),\n",
    "            'min_samples_leaf': sp_randInt(1, 10),\n",
    "            'max_features': sp_randInt(2, 20),\n",
    "            'max_depth': sp_randInt(2, 20),\n",
    "            \n",
    "           }\n",
    "random_evaluation_(rf, train, test, rf_param)"
   ]
  },
  {
   "cell_type": "code",
   "execution_count": 57,
   "id": "9ce2e342",
   "metadata": {},
   "outputs": [
    {
     "name": "stdout",
     "output_type": "stream",
     "text": [
      "Best model Accuracy: 0.58437\n",
      "Best model Precision: 0.42735\n",
      "Best model Recall: 0.43103\n",
      "Best model F1score: 0.42918\n",
      "Best Hyperparameters: {'criterion': 'gini', 'max_depth': 18}\n"
     ]
    }
   ],
   "source": [
    "dt = DecisionTreeClassifier(criterion='entropy',\n",
    "                            max_depth=10,)\n",
    "dt_param = {'criterion': ['gini','entropy'],\n",
    "            'max_depth': sp_randInt(2, 20),\n",
    "           }\n",
    "random_evaluation_(dt, train, test, dt_param)"
   ]
  },
  {
   "cell_type": "code",
   "execution_count": 58,
   "id": "7545d7e5",
   "metadata": {},
   "outputs": [
    {
     "name": "stdout",
     "output_type": "stream",
     "text": [
      "Best model Accuracy: 0.59062\n",
      "Best model Precision: 0.39437\n",
      "Best model Recall: 0.24138\n",
      "Best model F1score: 0.29947\n",
      "Best Hyperparameters: {'C': 5.357879515778587, 'gamma': 96.38124757217304, 'kernel': 'rbf', 'random_state': 0}\n"
     ]
    }
   ],
   "source": [
    "svc = SVC()\n",
    "\n",
    "svc_param = {'C': sp_randFloat(0.01, 100),  \n",
    "             'gamma': sp_randFloat(0.01, 100), \n",
    "             'kernel': ['linear', 'rbf'],\n",
    "             'random_state':sp_randInt(0, 5),\n",
    "             \n",
    "             } \n",
    "random_evaluation_(svc, train_scaled, test_scaled, svc_param)"
   ]
  },
  {
   "cell_type": "code",
   "execution_count": 59,
   "id": "c40c0738",
   "metadata": {},
   "outputs": [
    {
     "name": "stdout",
     "output_type": "stream",
     "text": [
      "Best model Accuracy: 0.65938\n",
      "Best model Precision: 0.57143\n",
      "Best model Recall: 0.24138\n",
      "Best model F1score: 0.33939\n",
      "Best Hyperparameters: {'class_weight': {0: 1, 1: 1}, 'max_iter': 1000, 'penalty': 'l2', 'random_state': 4, 'solver': 'lbfgs'}\n"
     ]
    },
    {
     "name": "stderr",
     "output_type": "stream",
     "text": [
      "C:\\Users\\Hoang Hiep\\anaconda3\\Lib\\site-packages\\sklearn\\model_selection\\_validation.py:425: FitFailedWarning: \n",
      "14 fits failed out of a total of 60.\n",
      "The score on these train-test partitions for these parameters will be set to nan.\n",
      "If these failures are not expected, you can try to debug them by setting error_score='raise'.\n",
      "\n",
      "Below are more details about the failures:\n",
      "--------------------------------------------------------------------------------\n",
      "14 fits failed with the following error:\n",
      "Traceback (most recent call last):\n",
      "  File \"C:\\Users\\Hoang Hiep\\anaconda3\\Lib\\site-packages\\sklearn\\model_selection\\_validation.py\", line 732, in _fit_and_score\n",
      "    estimator.fit(X_train, y_train, **fit_params)\n",
      "  File \"C:\\Users\\Hoang Hiep\\anaconda3\\Lib\\site-packages\\sklearn\\base.py\", line 1151, in wrapper\n",
      "    return fit_method(estimator, *args, **kwargs)\n",
      "           ^^^^^^^^^^^^^^^^^^^^^^^^^^^^^^^^^^^^^^\n",
      "  File \"C:\\Users\\Hoang Hiep\\anaconda3\\Lib\\site-packages\\sklearn\\linear_model\\_logistic.py\", line 1168, in fit\n",
      "    solver = _check_solver(self.solver, self.penalty, self.dual)\n",
      "             ^^^^^^^^^^^^^^^^^^^^^^^^^^^^^^^^^^^^^^^^^^^^^^^^^^^\n",
      "  File \"C:\\Users\\Hoang Hiep\\anaconda3\\Lib\\site-packages\\sklearn\\linear_model\\_logistic.py\", line 56, in _check_solver\n",
      "    raise ValueError(\n",
      "ValueError: Solver lbfgs supports only 'l2' or 'none' penalties, got l1 penalty.\n",
      "\n",
      "  warnings.warn(some_fits_failed_message, FitFailedWarning)\n",
      "C:\\Users\\Hoang Hiep\\anaconda3\\Lib\\site-packages\\sklearn\\model_selection\\_search.py:976: UserWarning: One or more of the test scores are non-finite: [0.55357143 0.55357143        nan 0.55612245 0.55612245 0.55612245\n",
      " 0.55612245 0.55357143        nan 0.55612245 0.55357143 0.55612245\n",
      "        nan 0.55612245 0.55357143 0.55612245        nan 0.55357143\n",
      " 0.55612245 0.55612245 0.55612245 0.55357143 0.55357143 0.55357143\n",
      " 0.55357143 0.55357143 0.55612245        nan        nan        nan]\n",
      "  warnings.warn(\n"
     ]
    }
   ],
   "source": [
    "import numpy as np\n",
    "\n",
    "lr = LogisticRegression()\n",
    "\n",
    "l1 = np.arange(10, 1)\n",
    "l2 = np.arange(10, 1)\n",
    "class_weight = [{0:i,1:j} for i,j in zip(l1,l2)]\n",
    "\n",
    "lr_param = {'max_iter':[1000],\n",
    "            'random_state':sp_randInt(1, 5),\n",
    "            'solver':['lbfgs','liblinear'] ,\n",
    "            'penalty':['l2','l1'],\n",
    "            'class_weight':[{0:1, 1:1}],\n",
    "           } \n",
    "random_evaluation_(lr, train_scaled, test_scaled, lr_param)"
   ]
  },
  {
   "cell_type": "code",
   "execution_count": 60,
   "id": "f253eb81",
   "metadata": {},
   "outputs": [
    {
     "name": "stdout",
     "output_type": "stream",
     "text": [
      "Best model Accuracy: 0.59062\n",
      "Best model Precision: 0.40000\n",
      "Best model Recall: 0.25862\n",
      "Best model F1score: 0.31414\n",
      "Best Hyperparameters: {'n_neighbors': 28}\n"
     ]
    }
   ],
   "source": [
    "knn = KNeighborsClassifier()\n",
    "\n",
    "knn_param = {'n_neighbors':sp_randInt(2,50),\n",
    "            } \n",
    "random_evaluation_(knn, train_scaled, test_scaled, knn_param)"
   ]
  },
  {
   "cell_type": "code",
   "execution_count": 61,
   "id": "14e44f6b",
   "metadata": {},
   "outputs": [
    {
     "name": "stdout",
     "output_type": "stream",
     "text": [
      "Best model Accuracy: 0.61875\n",
      "Best model Precision: 0.47656\n",
      "Best model Recall: 0.52586\n",
      "Best model F1score: 0.50000\n",
      "Best Hyperparameters: {'learning_rate': 0.1, 'max_depth': 8, 'max_features': 9, 'min_samples_leaf': 3, 'min_samples_split': 92, 'n_estimators': 585, 'random_state': 4, 'subsample': 1}\n"
     ]
    }
   ],
   "source": [
    "xgb = GradientBoostingClassifier()\n",
    "xgb_param = {'n_estimators': sp_randInt(100, 1000), \n",
    "             'min_samples_leaf': sp_randInt(2, 10),\n",
    "             'min_samples_split': sp_randInt(5, 100),\n",
    "             'max_features': sp_randInt(2, 10),\n",
    "             'max_depth': sp_randInt(2, 10),\n",
    "             'learning_rate': [0.1, 1, 2],\n",
    "             'subsample': [0.5, 0.7, 0.8, 1],\n",
    "             'random_state':sp_randInt(1, 5),\n",
    "            } \n",
    "random_evaluation_(xgb, train, test, xgb_param)"
   ]
  },
  {
   "cell_type": "code",
   "execution_count": 62,
   "id": "08708955",
   "metadata": {},
   "outputs": [
    {
     "name": "stdout",
     "output_type": "stream",
     "text": [
      "Best model Accuracy: 0.61250\n",
      "Best model Precision: 0.46491\n",
      "Best model Recall: 0.45690\n",
      "Best model F1score: 0.46087\n",
      "Best Hyperparameters: {'depth': 4, 'learning_rate': 0.03593524093347264, 'n_estimators': 339, 'random_state': 2, 'verbose': 0}\n"
     ]
    }
   ],
   "source": [
    "cb = CatBoostClassifier()\n",
    "cb_param = {'n_estimators': sp_randInt(100, 1000),\n",
    "            'learning_rate': sp_randFloat(0.01, 0.05),\n",
    "            #'iterations':sp_randInt(5, 30),\n",
    "            'depth':sp_randInt(4, 10),\n",
    "            'verbose':sp_randInt(0, 5),\n",
    "            'random_state':sp_randInt(1, 5),\n",
    "            } \n",
    "random_evaluation_(cb, train, test, cb_param)"
   ]
  },
  {
   "cell_type": "code",
   "execution_count": null,
   "id": "df3c8823",
   "metadata": {},
   "outputs": [],
   "source": []
  }
 ],
 "metadata": {
  "kernelspec": {
   "display_name": "Python 3 (ipykernel)",
   "language": "python",
   "name": "python3"
  },
  "language_info": {
   "codemirror_mode": {
    "name": "ipython",
    "version": 3
   },
   "file_extension": ".py",
   "mimetype": "text/x-python",
   "name": "python",
   "nbconvert_exporter": "python",
   "pygments_lexer": "ipython3",
   "version": "3.11.4"
  }
 },
 "nbformat": 4,
 "nbformat_minor": 5
}
